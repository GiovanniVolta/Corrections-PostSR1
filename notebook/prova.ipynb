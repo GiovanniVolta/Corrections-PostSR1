{
 "cells": [
  {
   "cell_type": "code",
   "execution_count": 1,
   "metadata": {
    "collapsed": false
   },
   "outputs": [
    {
     "name": "stderr",
     "output_type": "stream",
     "text": [
      "/project/lgrandi/anaconda3/envs/pax_head/lib/python3.4/site-packages/seaborn-0.8.1-py3.4.egg/seaborn/apionly.py:6: UserWarning: As seaborn no longer sets a default style on import, the seaborn.apionly module is deprecated. It will be removed in a future version.\n",
      "  warnings.warn(msg, UserWarning)\n"
     ]
    }
   ],
   "source": [
    "import numpy as np\n",
    "import matplotlib\n",
    "import matplotlib.pyplot as plt\n",
    "import pandas as pd\n",
    "from scipy.optimize import curve_fit\n",
    "import matplotlib.gridspec as gridspec  # for unequal plot boxes\n",
    "\n",
    "%matplotlib inline\n",
    "\n",
    "import lax \n",
    "from lax.lichens import sciencerun1\n",
    "from pax import units\n",
    "import hax\n",
    "hax.init(pax_version_policy='6.10.1')\n",
    "         #minitree_paths=['.', '/project2/lgrandi/xenon1t/minitrees/pax_v6.8.0'])"
   ]
  },
  {
   "cell_type": "code",
   "execution_count": 2,
   "metadata": {
    "collapsed": false
   },
   "outputs": [
    {
     "name": "stdout",
     "output_type": "stream",
     "text": [
      "Selected 22 datasets\n"
     ]
    }
   ],
   "source": [
    "datasets = hax.runs.datasets\n",
    "datasets = hax.runs.tags_selection(datasets, include=['cathode_-5kV', 'cathode_-5kv'],\n",
    "                                   exclude=['bad', 'messy', 'test', '*lash*', 'source_opening'])\n",
    "\n",
    "datasets = datasets[datasets['source__type'] == 'Kr83m']\n",
    "\n",
    "# Select only runs of an hour or more\n",
    "datasets['run_time_s'] = pd.to_timedelta((datasets.end) - pd.to_datetime(datasets.start)).dt.seconds\n",
    "datasets = datasets[datasets.run_time_s > 3600]\n",
    "\n",
    "# Only select runs in a particular date-range (date MM/DD/YY)\n",
    "datasets = datasets[(datasets.start > pd.to_datetime('06/10/18', format = '%d/%m/%y')) &\n",
    "              (datasets.end < pd.to_datetime('16/10/18',format = '%d/%m/%y'))] # only newer runs\n",
    "\n",
    "# datasets\n",
    "print('Selected %d datasets' % len(datasets))\n",
    "#print('\\nThe total runtime (days): ' ,datasets.run_time_s.sum()/(60*60*24))\n",
    "#print('\\n', hax.runs.count_tags(datasets), '\\n')"
   ]
  },
  {
   "cell_type": "code",
   "execution_count": 3,
   "metadata": {
    "collapsed": false
   },
   "outputs": [],
   "source": [
    "# minitrees\n",
    "data = hax.minitrees.load(datasets.name, ['CorrectedDoubleS1Scatter', 'Basics'])\n",
    "no_cuts_data = data\n",
    "#print('\\n', data.columns.values)"
   ]
  },
  {
   "cell_type": "code",
   "execution_count": 4,
   "metadata": {
    "collapsed": false
   },
   "outputs": [
    {
     "name": "stdout",
     "output_type": "stream",
     "text": [
      "Unnamed selection: 512 rows removed (96.03% passed)\n",
      "Unnamed selection: 987 rows removed (92.03% passed)\n"
     ]
    },
    {
     "name": "stderr",
     "output_type": "stream",
     "text": [
      "/project/lgrandi/anaconda3/envs/pax_head/lib/python3.4/site-packages/hax-2.5.0-py3.4.egg/hax/cuts.py:130: UserWarning: Pandas doesn't allow columns to be created via a new attribute name - see https://pandas.pydata.org/pandas-docs/stable/indexing.html#attribute-access\n",
      "  d.cut_history = prev_cuts + [passthrough_dict]\n"
     ]
    }
   ],
   "source": [
    "# Reject bkg events from pileup\n",
    "data = data[(data['s1_b_center_time']-data['s1_a_center_time'] > 100) &\n",
    "           (data['s1_b_center_time']-data['s1_a_center_time'] < 2000)]\n",
    "# Reject afterpulses events\n",
    "data = data[(data['ds_s1_b_n_distinct_channels']>3) & \n",
    "           (data['ds_s1_b_n_distinct_channels']<30)]\n",
    "# fiducial volume\n",
    "data = hax.cuts.selection(data, data['int_a_z_pax'] > -96.6) \n",
    "data = hax.cuts.selection(data, data['int_a_z_pax'] < -1)"
   ]
  },
  {
   "cell_type": "code",
   "execution_count": 5,
   "metadata": {
    "collapsed": false,
    "scrolled": true
   },
   "outputs": [
    {
     "name": "stderr",
     "output_type": "stream",
     "text": [
      "  0%|          | 0/11398 [00:00<?, ?it/s]/project/lgrandi/anaconda3/envs/pax_head/lib/python3.4/site-packages/pandas/core/indexing.py:194: SettingWithCopyWarning: \n",
      "A value is trying to be set on a copy of a slice from a DataFrame\n",
      "\n",
      "See the caveats in the documentation: http://pandas.pydata.org/pandas-docs/stable/indexing.html#indexing-view-versus-copy\n",
      "  self._setitem_with_indexer(indexer, value)\n",
      "  0%|          | 33/11398 [00:01<08:11, 23.15it/s]/project/lgrandi/anaconda3/envs/pax_head/lib/python3.4/site-packages/ipykernel/__main__.py:9: RuntimeWarning: overflow encountered in double_scalars\n",
      "100%|██████████| 11398/11398 [08:48<00:00, 21.55it/s]\n",
      "/project/lgrandi/anaconda3/envs/pax_head/lib/python3.4/site-packages/matplotlib/colors.py:927: RuntimeWarning: invalid value encountered in less_equal\n",
      "  mask |= resdat <= 0\n"
     ]
    },
    {
     "data": {
      "image/png": "[encoded data removed]",
      "text/plain": [
       "<matplotlib.figure.Figure at 0x7fe831126518>"
      ]
     },
     "metadata": {},
     "output_type": "display_data"
    },
    {
     "data": {
      "text/plain": [
       "98        25.279384\n",
       "123        5.283856\n",
       "347       45.469922\n",
       "378       29.291166\n",
       "403       42.772371\n",
       "494       22.818670\n",
       "564       33.765110\n",
       "575       25.207544\n",
       "590       38.912870\n",
       "632       27.050517\n",
       "640       23.568391\n",
       "672       48.770369\n",
       "775       33.536233\n",
       "810       35.671325\n",
       "872       28.287621\n",
       "1038       9.768074\n",
       "1160      30.169478\n",
       "1245      25.244947\n",
       "1362      35.766433\n",
       "1440      21.272266\n",
       "1642      33.140682\n",
       "1665      45.184981\n",
       "1710      30.109221\n",
       "1716      24.629881\n",
       "1746      20.138634\n",
       "1791      20.715905\n",
       "1797      35.314847\n",
       "1816      40.880965\n",
       "1872      22.474342\n",
       "1906      22.787401\n",
       "            ...    \n",
       "566198    24.049953\n",
       "566289    36.016065\n",
       "566330    37.584097\n",
       "566352    19.681884\n",
       "566396    39.945830\n",
       "566447    39.645651\n",
       "566521    23.467395\n",
       "566586    42.263000\n",
       "566631    26.272076\n",
       "566636    27.120868\n",
       "566690    19.338757\n",
       "566754    11.284858\n",
       "566790    31.812432\n",
       "566820    36.279965\n",
       "566826    28.233102\n",
       "566853    21.437701\n",
       "566882    26.268921\n",
       "566896    28.137897\n",
       "566919    45.283706\n",
       "566941    22.844724\n",
       "566952    49.511147\n",
       "567052    36.814150\n",
       "567080    24.274184\n",
       "567209    31.128281\n",
       "567232    40.419674\n",
       "567246    38.082881\n",
       "567249    22.185678\n",
       "567264    41.006373\n",
       "567320    41.977055\n",
       "567354     0.000000\n",
       "Name: int_a_r_nn_correct, Length: 11398, dtype: float64"
      ]
     },
     "execution_count": 5,
     "metadata": {},
     "output_type": "execute_result"
    }
   ],
   "source": [
    "# Field correction\n",
    "%run '/home/gvolta/Desktop/Function/Field_Correction/Field_Correction.ipynb'\n",
    "FielCorrection(data, 'int_a_r_nn', 'int_a_z_pax', '/home/gvolta/Desktop/')"
   ]
  },
  {
   "cell_type": "code",
   "execution_count": null,
   "metadata": {
    "collapsed": true
   },
   "outputs": [],
   "source": [
    "data[]"
   ]
  },
  {
   "cell_type": "code",
   "execution_count": null,
   "metadata": {
    "collapsed": true
   },
   "outputs": [],
   "source": []
  }
 ],
 "metadata": {
  "kernelspec": {
   "display_name": "Python 3",
   "language": "python",
   "name": "python3"
  },
  "language_info": {
   "codemirror_mode": {
    "name": "ipython",
    "version": 3
   },
   "file_extension": ".py",
   "mimetype": "text/x-python",
   "name": "python",
   "nbconvert_exporter": "python",
   "pygments_lexer": "ipython3",
   "version": "3.4.4"
  }
 },
 "nbformat": 4,
 "nbformat_minor": 2
}
