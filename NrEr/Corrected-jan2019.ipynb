{
 "cells": [
  {
   "cell_type": "code",
   "execution_count": 3,
   "metadata": {
    "collapsed": false
   },
   "outputs": [],
   "source": [
    "%%capture\n",
    "#!rm -Rf /home/peres/.cache/rootpy/*\n",
    "%run \"~/notebooks/power_on.ipynb\"\n",
    "%run \"~/notebooks/function_definitions.ipynb\"\n",
    "\n",
    "cachefolder='/home/peres/minitrees/cache/UZH/ER_NR_discrimination/'"
   ]
  },
  {
   "cell_type": "code",
   "execution_count": 22,
   "metadata": {
    "collapsed": false
   },
   "outputs": [],
   "source": [
    "hax.misc.code_hider()\n",
    "%run \"./nov2018_functions.ipynb\""
   ]
  },
  {
   "cell_type": "code",
   "execution_count": null,
   "metadata": {
    "collapsed": true
   },
   "outputs": [],
   "source": []
  },
  {
   "cell_type": "markdown",
   "metadata": {
    "collapsed": true
   },
   "source": [
    "## Select proper datasets"
   ]
  },
  {
   "cell_type": "code",
   "execution_count": 7,
   "metadata": {
    "collapsed": true
   },
   "outputs": [],
   "source": [
    "%%capture\n",
    "hax.init(experiment='XENON1T',\n",
    "         pax_version_policy = 'v6.10.1',\n",
    "         main_data_paths= ['/dali/lgrandi/xenon1t/processed/pax_v6.10.1/'], #'/project/lgrandi/xenon1t/processed/latest/'\n",
    "         minitree_paths = ['/dali/lgrandi/xenon1t/minitrees/pax_v6.10.1/','/home/peres/minitrees'], #'/project/lgrandi/xenon1t/minitrees/latest/',\n",
    "        make_minitrees = False)\n",
    "print('Using hax version'+str(hax.__version__)+'\\n')\n",
    "\n",
    "hax.minitrees.TreeMaker.mc_data = False\n",
    "#import logging\n",
    "#logging.basicConfig(level=logging.INFO)\n",
    "#import warnings\n",
    "#warnings.simplefilter('ignore')\n",
    "\n",
    "\n",
    "datasets = hax.runs.datasets\n",
    "\n",
    "bad_tags = ['bad','bad,waterfilling','waterfilling, bad','flash','messy','noise','afterpulse','hiccup','Flash','Hiccup']\n",
    "\n",
    "dataset_select = datasets[((datasets['source__type']==('neutron_generator') )| \n",
    "                                (datasets['source__type']==('rn220')) |\n",
    "                                (datasets['source__type']==('Rn220')))\n",
    "                         ]\n",
    "\n",
    "print(len(datasets),'-> Select Neutron Generator runs->',len(dataset_select),'(%.6f%%)'%(len(dataset_select)/len(datasets)*100))\n",
    "\n",
    "dataset_select['duration'] = dataset_select['end'].sub(dataset_select['start'])\n",
    "\n",
    "b = len(dataset_select)\n",
    "\n",
    "dataset_select = dataset_select[dataset_select['duration'] > '00:50:00']\n",
    "print(b,'-> Get only ~1h runs ->',len(dataset_select),'(%.2f%%)'%(len(dataset_select)/b*100))\n",
    "\n",
    "print('We got a total of %.3f days of NG+Rn220 data to play with! (in this PAX version (?))' %(np.sum(dataset_select['duration'])/np.timedelta64(1, 'D')))\n",
    "b = len(dataset_select)\n",
    "dataset_select = dataset_select[(dataset_select['end'] > pd.to_datetime('20181001', format='%Y%m%d', errors='ignore'))&\n",
    "                                            (dataset_select['end'] < pd.to_datetime('20181031', format='%Y%m%d', errors='ignore'))\n",
    "                                            ]\n",
    "#dataset_select_2018 = dataset_select_2018[dataset_select['end'] < pd.to_datetime('20180326', format='%Y%m%d', errors='ignore')]\n",
    "print('Total NG+Rn220 datasets: %d\\nDatasets from Oct2018: %d (%.6f%%) - making %.2f days of data.'%(b,len(dataset_select),len(dataset_select)/b*100,np.sum(dataset_select['duration'])/np.timedelta64(1, 'D')))\n",
    "runNG_start = 22820\n",
    "runNG_end = 22864\n",
    "runRn_start = 22880\n",
    "runRn_end = 22997\n",
    "\n",
    "\n",
    "bad_runnbr = [22823,22832,22843,22844,22845,22849,22851,22853,22854,22855,22863,22836,22839, #NG datasets (13)\n",
    "              22888,22897,22906,22909,22911,22912,22913,22914,22943,22944,22945,22951,23020,] #Rn220 datasets (13)\n",
    "#bad_runnbr = [17543,17960,17928,17890,17897,17901,17902,17871]\n",
    "\n",
    "\n",
    "dataset_NG = dataset_select[ (dataset_select['number'] >= runNG_start) &\n",
    "                                  (dataset_select['number'] <= runNG_end) & \n",
    "                                   (~dataset_select['number'].isin(bad_runnbr))]\n",
    "dataset_Rn = dataset_select[ (dataset_select['number'] >= runRn_start) &\n",
    "                                  (dataset_select['number'] <= runRn_end)& \n",
    "                                   (~dataset_select['number'].isin(bad_runnbr))]\n",
    "\n",
    "\n",
    "print('Run NG: %.2f days of data; %d datasets; %d events triggered; %.2f events/s.' %(np.sum(dataset_NG['duration'])/np.timedelta64(1, 'D'),\n",
    "                                                                            len(dataset_NG),\n",
    "                                                                   np.sum(dataset_NG['trigger__events_built']),\n",
    "                                                                    np.sum(dataset_NG['trigger__events_built'])/\n",
    "                                                               (np.sum(dataset_NG['duration'])/np.timedelta64(1, 's'))))\n",
    "print('Run Rn: %.2f days of data; %d datasets; %d events triggered; %.2f events/s.' %(np.sum(dataset_Rn['duration'])/np.timedelta64(1, 'D'),\n",
    "                                                                            len(dataset_Rn),\n",
    "                                                                   np.sum(dataset_Rn['trigger__events_built']),\n",
    "                                                                    np.sum(dataset_Rn['trigger__events_built'])/\n",
    "                                                               (np.sum(dataset_Rn['duration'])/np.timedelta64(1, 's'))))\n",
    "\n",
    "Runs = {'NG':[dataset_NG], 'Rn':[dataset_Rn]} #This is the main dictionary where everything will be stored!\n",
    "del dataset_NG, dataset_Rn"
   ]
  },
  {
   "cell_type": "code",
   "execution_count": null,
   "metadata": {
    "collapsed": true
   },
   "outputs": [],
   "source": []
  },
  {
   "cell_type": "code",
   "execution_count": 20,
   "metadata": {
    "collapsed": false
   },
   "outputs": [
    {
     "name": "stdout",
     "output_type": "stream",
     "text": [
      "Run NG: 1.29 days of data; 31 datasets; 2358070 events triggered; 21.11 events/s.\n",
      "Run Rn: 3.17 days of data; 76 datasets; 8848859 events triggered; 32.31 events/s.\n"
     ]
    }
   ],
   "source": [
    "dataset_NG = Runs['NG'][0]\n",
    "dataset_Rn = Runs['Rn'][0]\n",
    "print('Run NG: %.2f days of data; %d datasets; %d events triggered; %.2f events/s.' %(np.sum(dataset_NG['duration'])/np.timedelta64(1, 'D'),\n",
    "                                                                            len(dataset_NG),\n",
    "                                                                   np.sum(dataset_NG['trigger__events_built']),\n",
    "                                                                    np.sum(dataset_NG['trigger__events_built'])/\n",
    "                                                               (np.sum(dataset_NG['duration'])/np.timedelta64(1, 's'))))\n",
    "print('Run Rn: %.2f days of data; %d datasets; %d events triggered; %.2f events/s.' %(np.sum(dataset_Rn['duration'])/np.timedelta64(1, 'D'),\n",
    "                                                                            len(dataset_Rn),\n",
    "                                                                   np.sum(dataset_Rn['trigger__events_built']),\n",
    "                                                                    np.sum(dataset_Rn['trigger__events_built'])/\n",
    "                                                               (np.sum(dataset_Rn['duration'])/np.timedelta64(1, 's'))))"
   ]
  },
  {
   "cell_type": "markdown",
   "metadata": {
    "collapsed": true
   },
   "source": [
    "### Load NG and Rn220 datasets from hax"
   ]
  },
  {
   "cell_type": "code",
   "execution_count": 13,
   "metadata": {
    "collapsed": false
   },
   "outputs": [
    {
     "name": "stderr",
     "output_type": "stream",
     "text": [
      "/project/lgrandi/anaconda3/envs/pax_head/lib/python3.4/site-packages/hax-2.5.0-py3.4.egg/hax/cuts.py:130: UserWarning: Pandas doesn't allow columns to be created via a new attribute name - see https://pandas.pydata.org/pandas-docs/stable/indexing.html#attribute-access\n",
      "  d.cut_history = prev_cuts + [passthrough_dict]\n"
     ]
    },
    {
     "name": "stdout",
     "output_type": "stream",
     "text": [
      "cs1 < 200 selection: 100467 rows removed (0.06% passed)\n",
      "cs1 > 0 selection: 0 rows removed (100.00% passed)\n",
      "cs2 > 0 selection: 0 rows removed (100.00% passed)\n",
      "0 / 76\n"
     ]
    },
    {
     "name": "stderr",
     "output_type": "stream",
     "text": [
      "/project/lgrandi/anaconda3/envs/pax_head/lib/python3.4/site-packages/hax-2.5.0-py3.4.egg/hax/cuts.py:58: UserWarning: Pandas doesn't allow columns to be created via a new attribute name - see https://pandas.pydata.org/pandas-docs/stable/indexing.html#attribute-access\n",
      "  d.cut_history = new_history\n"
     ]
    },
    {
     "name": "stdout",
     "output_type": "stream",
     "text": [
      "cs1 < 200 selection: 142534 rows removed (0.05% passed)\n",
      "cs1 > 0 selection: 0 rows removed (100.00% passed)\n",
      "cs2 > 0 selection: 0 rows removed (100.00% passed)\n",
      "cs1 < 200 selection: 160598 rows removed (0.05% passed)\n",
      "cs1 > 0 selection: 0 rows removed (100.00% passed)\n",
      "cs2 > 0 selection: 0 rows removed (100.00% passed)\n",
      "cs1 < 200 selection: 172722 rows removed (0.08% passed)\n",
      "cs1 > 0 selection: 0 rows removed (100.00% passed)\n",
      "cs2 > 0 selection: 0 rows removed (100.00% passed)\n",
      "cs1 < 200 selection: 185506 rows removed (0.07% passed)\n",
      "cs1 > 0 selection: 0 rows removed (100.00% passed)\n",
      "cs2 > 0 selection: 0 rows removed (100.00% passed)\n",
      "cs1 < 200 selection: 196308 rows removed (0.08% passed)\n",
      "cs1 > 0 selection: 0 rows removed (100.00% passed)\n",
      "cs2 > 0 selection: 0 rows removed (100.00% passed)\n",
      "cs1 < 200 selection: 66695 rows removed (2.77% passed)\n",
      "cs1 > 0 selection: 0 rows removed (100.00% passed)\n",
      "cs2 > 0 selection: 0 rows removed (100.00% passed)\n",
      "cs1 < 200 selection: 62151 rows removed (2.83% passed)\n",
      "cs1 > 0 selection: 0 rows removed (100.00% passed)\n",
      "cs2 > 0 selection: 0 rows removed (100.00% passed)\n",
      "cs1 < 200 selection: 59102 rows removed (2.99% passed)\n",
      "cs1 > 0 selection: 0 rows removed (100.00% passed)\n",
      "cs2 > 0 selection: 0 rows removed (100.00% passed)\n",
      "cs1 < 200 selection: 55986 rows removed (2.98% passed)\n",
      "cs1 > 0 selection: 0 rows removed (100.00% passed)\n",
      "cs2 > 0 selection: 0 rows removed (100.00% passed)\n",
      "cs1 < 200 selection: 52347 rows removed (2.91% passed)\n",
      "cs1 > 0 selection: 0 rows removed (100.00% passed)\n",
      "cs2 > 0 selection: 0 rows removed (100.00% passed)\n",
      "10 / 76\n",
      "cs1 < 200 selection: 49598 rows removed (3.14% passed)\n",
      "cs1 > 0 selection: 0 rows removed (100.00% passed)\n",
      "cs2 > 0 selection: 0 rows removed (100.00% passed)\n",
      "cs1 < 200 selection: 46454 rows removed (3.01% passed)\n",
      "cs1 > 0 selection: 0 rows removed (100.00% passed)\n",
      "cs2 > 0 selection: 0 rows removed (100.00% passed)\n",
      "cs1 < 200 selection: 44483 rows removed (3.01% passed)\n",
      "cs1 > 0 selection: 0 rows removed (100.00% passed)\n",
      "cs2 > 0 selection: 0 rows removed (100.00% passed)\n",
      "cs1 < 200 selection: 42443 rows removed (3.10% passed)\n",
      "cs1 > 0 selection: 0 rows removed (100.00% passed)\n",
      "cs2 > 0 selection: 0 rows removed (100.00% passed)\n",
      "cs1 < 200 selection: 171689 rows removed (0.07% passed)\n",
      "cs1 > 0 selection: 0 rows removed (100.00% passed)\n",
      "cs2 > 0 selection: 0 rows removed (100.00% passed)\n",
      "cs1 < 200 selection: 266229 rows removed (0.04% passed)\n",
      "cs1 > 0 selection: 0 rows removed (100.00% passed)\n",
      "cs2 > 0 selection: 0 rows removed (100.00% passed)\n",
      "cs1 < 200 selection: 305299 rows removed (0.06% passed)\n",
      "cs1 > 0 selection: 0 rows removed (100.00% passed)\n",
      "cs2 > 0 selection: 0 rows removed (100.00% passed)\n",
      "cs1 < 200 selection: 330927 rows removed (0.05% passed)\n",
      "cs1 > 0 selection: 0 rows removed (100.00% passed)\n",
      "cs2 > 0 selection: 0 rows removed (100.00% passed)\n",
      "cs1 < 200 selection: 352362 rows removed (0.07% passed)\n",
      "cs1 > 0 selection: 0 rows removed (100.00% passed)\n",
      "cs2 > 0 selection: 0 rows removed (100.00% passed)\n",
      "cs1 < 200 selection: 373864 rows removed (0.07% passed)\n",
      "cs1 > 0 selection: 0 rows removed (100.00% passed)\n",
      "cs2 > 0 selection: 0 rows removed (100.00% passed)\n",
      "20 / 76\n",
      "cs1 < 200 selection: 124284 rows removed (2.88% passed)\n",
      "cs1 > 0 selection: 0 rows removed (100.00% passed)\n",
      "cs2 > 0 selection: 0 rows removed (100.00% passed)\n",
      "cs1 < 200 selection: 115527 rows removed (2.94% passed)\n",
      "cs1 > 0 selection: 0 rows removed (100.00% passed)\n",
      "cs2 > 0 selection: 0 rows removed (100.00% passed)\n",
      "cs1 < 200 selection: 108385 rows removed (2.89% passed)\n",
      "cs1 > 0 selection: 0 rows removed (100.00% passed)\n",
      "cs2 > 0 selection: 0 rows removed (100.00% passed)\n",
      "cs1 < 200 selection: 96034 rows removed (3.00% passed)\n",
      "cs1 > 0 selection: 0 rows removed (100.00% passed)\n",
      "cs2 > 0 selection: 0 rows removed (100.00% passed)\n",
      "cs1 < 200 selection: 71531 rows removed (2.99% passed)\n",
      "cs1 > 0 selection: 0 rows removed (100.00% passed)\n",
      "cs2 > 0 selection: 0 rows removed (100.00% passed)\n",
      "cs1 < 200 selection: 67045 rows removed (2.95% passed)\n",
      "cs1 > 0 selection: 0 rows removed (100.00% passed)\n",
      "cs2 > 0 selection: 0 rows removed (100.00% passed)\n",
      "cs1 < 200 selection: 63886 rows removed (3.02% passed)\n",
      "cs1 > 0 selection: 0 rows removed (100.00% passed)\n",
      "cs2 > 0 selection: 0 rows removed (100.00% passed)\n",
      "cs1 < 200 selection: 60496 rows removed (3.04% passed)\n",
      "cs1 > 0 selection: 0 rows removed (100.00% passed)\n",
      "cs2 > 0 selection: 0 rows removed (100.00% passed)\n",
      "cs1 < 200 selection: 57436 rows removed (2.89% passed)\n",
      "cs1 > 0 selection: 0 rows removed (100.00% passed)\n",
      "cs2 > 0 selection: 0 rows removed (100.00% passed)\n",
      "cs1 < 200 selection: 54404 rows removed (2.76% passed)\n",
      "cs1 > 0 selection: 0 rows removed (100.00% passed)\n",
      "cs2 > 0 selection: 0 rows removed (100.00% passed)\n",
      "30 / 76\n",
      "cs1 < 200 selection: 51637 rows removed (2.75% passed)\n",
      "cs1 > 0 selection: 0 rows removed (100.00% passed)\n",
      "cs2 > 0 selection: 0 rows removed (100.00% passed)\n",
      "cs1 < 200 selection: 247181 rows removed (0.05% passed)\n",
      "cs1 > 0 selection: 0 rows removed (100.00% passed)\n",
      "cs2 > 0 selection: 0 rows removed (100.00% passed)\n",
      "cs1 < 200 selection: 301907 rows removed (0.05% passed)\n",
      "cs1 > 0 selection: 0 rows removed (100.00% passed)\n",
      "cs2 > 0 selection: 0 rows removed (100.00% passed)\n",
      "cs1 < 200 selection: 325286 rows removed (0.06% passed)\n",
      "cs1 > 0 selection: 0 rows removed (100.00% passed)\n",
      "cs2 > 0 selection: 0 rows removed (100.00% passed)\n",
      "cs1 < 200 selection: 351629 rows removed (0.06% passed)\n",
      "cs1 > 0 selection: 0 rows removed (100.00% passed)\n",
      "cs2 > 0 selection: 0 rows removed (100.00% passed)\n",
      "cs1 < 200 selection: 375177 rows removed (0.07% passed)\n",
      "cs1 > 0 selection: 0 rows removed (100.00% passed)\n",
      "cs2 > 0 selection: 0 rows removed (100.00% passed)\n",
      "cs1 < 200 selection: 393703 rows removed (0.09% passed)\n",
      "cs1 > 0 selection: 0 rows removed (100.00% passed)\n",
      "cs2 > 0 selection: 0 rows removed (100.00% passed)\n",
      "cs1 < 200 selection: 391403 rows removed (0.09% passed)\n",
      "cs1 > 0 selection: 0 rows removed (100.00% passed)\n",
      "cs2 > 0 selection: 0 rows removed (100.00% passed)\n",
      "cs1 < 200 selection: 138212 rows removed (3.03% passed)\n",
      "cs1 > 0 selection: 0 rows removed (100.00% passed)\n",
      "cs2 > 0 selection: 0 rows removed (100.00% passed)\n",
      "cs1 < 200 selection: 129428 rows removed (3.09% passed)\n",
      "cs1 > 0 selection: 0 rows removed (100.00% passed)\n",
      "cs2 > 0 selection: 0 rows removed (100.00% passed)\n",
      "40 / 76\n",
      "cs1 < 200 selection: 123542 rows removed (3.07% passed)\n",
      "cs1 > 0 selection: 0 rows removed (100.00% passed)\n",
      "cs2 > 0 selection: 0 rows removed (100.00% passed)\n",
      "cs1 < 200 selection: 125739 rows removed (3.13% passed)\n",
      "cs1 > 0 selection: 0 rows removed (100.00% passed)\n",
      "cs2 > 0 selection: 0 rows removed (100.00% passed)\n",
      "cs1 < 200 selection: 118991 rows removed (2.99% passed)\n",
      "cs1 > 0 selection: 0 rows removed (100.00% passed)\n",
      "cs2 > 0 selection: 0 rows removed (100.00% passed)\n",
      "cs1 < 200 selection: 111476 rows removed (3.16% passed)\n",
      "cs1 > 0 selection: 0 rows removed (100.00% passed)\n",
      "cs2 > 0 selection: 0 rows removed (100.00% passed)\n",
      "cs1 < 200 selection: 104246 rows removed (3.06% passed)\n",
      "cs1 > 0 selection: 0 rows removed (100.00% passed)\n",
      "cs2 > 0 selection: 0 rows removed (100.00% passed)\n",
      "cs1 < 200 selection: 98444 rows removed (3.13% passed)\n",
      "cs1 > 0 selection: 0 rows removed (100.00% passed)\n",
      "cs2 > 0 selection: 0 rows removed (100.00% passed)\n",
      "cs1 < 200 selection: 92281 rows removed (3.05% passed)\n",
      "cs1 > 0 selection: 0 rows removed (100.00% passed)\n",
      "cs2 > 0 selection: 0 rows removed (100.00% passed)\n",
      "cs1 < 200 selection: 87713 rows removed (3.03% passed)\n",
      "cs1 > 0 selection: 0 rows removed (100.00% passed)\n",
      "cs2 > 0 selection: 0 rows removed (100.00% passed)\n",
      "cs1 < 200 selection: 82552 rows removed (2.81% passed)\n",
      "cs1 > 0 selection: 0 rows removed (100.00% passed)\n",
      "cs2 > 0 selection: 0 rows removed (100.00% passed)\n",
      "cs1 < 200 selection: 78280 rows removed (3.06% passed)\n",
      "cs1 > 0 selection: 0 rows removed (100.00% passed)\n",
      "cs2 > 0 selection: 0 rows removed (100.00% passed)\n",
      "50 / 76\n",
      "cs1 < 200 selection: 63275 rows removed (2.96% passed)\n",
      "cs1 > 0 selection: 0 rows removed (100.00% passed)\n",
      "cs2 > 0 selection: 0 rows removed (100.00% passed)\n",
      "cs1 < 200 selection: 60145 rows removed (2.91% passed)\n",
      "cs1 > 0 selection: 0 rows removed (100.00% passed)\n",
      "cs2 > 0 selection: 0 rows removed (100.00% passed)\n",
      "cs1 < 200 selection: 57211 rows removed (2.86% passed)\n",
      "cs1 > 0 selection: 0 rows removed (100.00% passed)\n",
      "cs2 > 0 selection: 0 rows removed (100.00% passed)\n",
      "cs1 < 200 selection: 54548 rows removed (2.89% passed)\n",
      "cs1 > 0 selection: 0 rows removed (100.00% passed)\n",
      "cs2 > 0 selection: 0 rows removed (100.00% passed)\n",
      "cs1 < 200 selection: 51520 rows removed (2.82% passed)\n",
      "cs1 > 0 selection: 0 rows removed (100.00% passed)\n",
      "cs2 > 0 selection: 0 rows removed (100.00% passed)\n",
      "cs1 < 200 selection: 47084 rows removed (2.91% passed)\n",
      "cs1 > 0 selection: 0 rows removed (100.00% passed)\n",
      "cs2 > 0 selection: 0 rows removed (100.00% passed)\n",
      "cs1 < 200 selection: 44700 rows removed (2.85% passed)\n",
      "cs1 > 0 selection: 0 rows removed (100.00% passed)\n",
      "cs2 > 0 selection: 0 rows removed (100.00% passed)\n",
      "cs1 < 200 selection: 42849 rows removed (2.88% passed)\n",
      "cs1 > 0 selection: 0 rows removed (100.00% passed)\n",
      "cs2 > 0 selection: 0 rows removed (100.00% passed)\n",
      "cs1 < 200 selection: 41082 rows removed (2.85% passed)\n",
      "cs1 > 0 selection: 0 rows removed (100.00% passed)\n",
      "cs2 > 0 selection: 0 rows removed (100.00% passed)\n",
      "cs1 < 200 selection: 39577 rows removed (3.03% passed)\n",
      "cs1 > 0 selection: 0 rows removed (100.00% passed)\n",
      "cs2 > 0 selection: 0 rows removed (100.00% passed)\n",
      "60 / 76\n",
      "cs1 < 200 selection: 37945 rows removed (2.84% passed)\n",
      "cs1 > 0 selection: 0 rows removed (100.00% passed)\n",
      "cs2 > 0 selection: 0 rows removed (100.00% passed)\n",
      "cs1 < 200 selection: 36453 rows removed (2.82% passed)\n",
      "cs1 > 0 selection: 0 rows removed (100.00% passed)\n",
      "cs2 > 0 selection: 0 rows removed (100.00% passed)\n",
      "cs1 < 200 selection: 34732 rows removed (3.08% passed)\n",
      "cs1 > 0 selection: 0 rows removed (100.00% passed)\n",
      "cs2 > 0 selection: 0 rows removed (100.00% passed)\n",
      "cs1 < 200 selection: 34263 rows removed (2.72% passed)\n",
      "cs1 > 0 selection: 0 rows removed (100.00% passed)\n",
      "cs2 > 0 selection: 0 rows removed (100.00% passed)\n",
      "cs1 < 200 selection: 32664 rows removed (3.02% passed)\n",
      "cs1 > 0 selection: 0 rows removed (100.00% passed)\n",
      "cs2 > 0 selection: 0 rows removed (100.00% passed)\n",
      "cs1 < 200 selection: 31058 rows removed (3.02% passed)\n",
      "cs1 > 0 selection: 0 rows removed (100.00% passed)\n",
      "cs2 > 0 selection: 0 rows removed (100.00% passed)\n",
      "cs1 < 200 selection: 30181 rows removed (2.89% passed)\n",
      "cs1 > 0 selection: 0 rows removed (100.00% passed)\n",
      "cs2 > 0 selection: 0 rows removed (100.00% passed)\n",
      "cs1 < 200 selection: 28939 rows removed (3.03% passed)\n",
      "cs1 > 0 selection: 0 rows removed (100.00% passed)\n",
      "cs2 > 0 selection: 0 rows removed (100.00% passed)\n",
      "cs1 < 200 selection: 28540 rows removed (3.11% passed)\n",
      "cs1 > 0 selection: 0 rows removed (100.00% passed)\n",
      "cs2 > 0 selection: 0 rows removed (100.00% passed)\n",
      "cs1 < 200 selection: 27278 rows removed (2.98% passed)\n",
      "cs1 > 0 selection: 0 rows removed (100.00% passed)\n",
      "cs2 > 0 selection: 0 rows removed (100.00% passed)\n",
      "70 / 76\n",
      "cs1 < 200 selection: 26533 rows removed (3.01% passed)\n",
      "cs1 > 0 selection: 0 rows removed (100.00% passed)\n",
      "cs2 > 0 selection: 0 rows removed (100.00% passed)\n",
      "cs1 < 200 selection: 25933 rows removed (3.29% passed)\n",
      "cs1 > 0 selection: 0 rows removed (100.00% passed)\n",
      "cs2 > 0 selection: 0 rows removed (100.00% passed)\n",
      "cs1 < 200 selection: 25076 rows removed (3.06% passed)\n",
      "cs1 > 0 selection: 0 rows removed (100.00% passed)\n",
      "cs2 > 0 selection: 0 rows removed (100.00% passed)\n",
      "cs1 < 200 selection: 24188 rows removed (3.25% passed)\n",
      "cs1 > 0 selection: 0 rows removed (100.00% passed)\n",
      "cs2 > 0 selection: 0 rows removed (100.00% passed)\n",
      "cs1 < 200 selection: 23687 rows removed (3.47% passed)\n",
      "cs1 > 0 selection: 0 rows removed (100.00% passed)\n",
      "cs2 > 0 selection: 0 rows removed (100.00% passed)\n"
     ]
    },
    {
     "name": "stderr",
     "output_type": "stream",
     "text": [
      "/project/lgrandi/anaconda3/envs/pax_head/lib/python3.4/site-packages/pandas/core/generic.py:3643: SettingWithCopyWarning: \n",
      "A value is trying to be set on a copy of a slice from a DataFrame.\n",
      "Try using .loc[row_indexer,col_indexer] = value instead\n",
      "\n",
      "See the caveats in the documentation: http://pandas.pydata.org/pandas-docs/stable/indexing.html#indexing-view-versus-copy\n",
      "  self[name] = value\n"
     ]
    },
    {
     "name": "stdout",
     "output_type": "stream",
     "text": [
      "cs1 < 200 selection: 66745 rows removed (5.88% passed)\n",
      "cs1 > 0 selection: 0 rows removed (100.00% passed)\n",
      "cs2 > 0 selection: 0 rows removed (100.00% passed)\n",
      "0 / 31\n",
      "cs1 < 200 selection: 67980 rows removed (6.05% passed)\n",
      "cs1 > 0 selection: 0 rows removed (100.00% passed)\n",
      "cs2 > 0 selection: 0 rows removed (100.00% passed)\n",
      "cs1 < 200 selection: 68432 rows removed (6.10% passed)\n",
      "cs1 > 0 selection: 0 rows removed (100.00% passed)\n",
      "cs2 > 0 selection: 0 rows removed (100.00% passed)\n",
      "cs1 < 200 selection: 67541 rows removed (5.92% passed)\n",
      "cs1 > 0 selection: 0 rows removed (100.00% passed)\n",
      "cs2 > 0 selection: 0 rows removed (100.00% passed)\n",
      "cs1 < 200 selection: 67666 rows removed (6.20% passed)\n",
      "cs1 > 0 selection: 0 rows removed (100.00% passed)\n",
      "cs2 > 0 selection: 0 rows removed (100.00% passed)\n",
      "cs1 < 200 selection: 70931 rows removed (6.26% passed)\n",
      "cs1 > 0 selection: 0 rows removed (100.00% passed)\n",
      "cs2 > 0 selection: 0 rows removed (100.00% passed)\n",
      "cs1 < 200 selection: 71862 rows removed (7.05% passed)\n",
      "cs1 > 0 selection: 0 rows removed (100.00% passed)\n",
      "cs2 > 0 selection: 0 rows removed (100.00% passed)\n",
      "cs1 < 200 selection: 72052 rows removed (6.10% passed)\n",
      "cs1 > 0 selection: 0 rows removed (100.00% passed)\n",
      "cs2 > 0 selection: 0 rows removed (100.00% passed)\n",
      "cs1 < 200 selection: 70964 rows removed (6.03% passed)\n",
      "cs1 > 0 selection: 0 rows removed (100.00% passed)\n",
      "cs2 > 0 selection: 0 rows removed (100.00% passed)\n",
      "cs1 < 200 selection: 71872 rows removed (6.18% passed)\n",
      "cs1 > 0 selection: 0 rows removed (100.00% passed)\n",
      "cs2 > 0 selection: 0 rows removed (100.00% passed)\n",
      "cs1 < 200 selection: 71646 rows removed (6.27% passed)\n",
      "cs1 > 0 selection: 0 rows removed (100.00% passed)\n",
      "cs2 > 0 selection: 0 rows removed (100.00% passed)\n",
      "10 / 31\n",
      "cs1 < 200 selection: 73068 rows removed (6.14% passed)\n",
      "cs1 > 0 selection: 0 rows removed (100.00% passed)\n",
      "cs2 > 0 selection: 0 rows removed (100.00% passed)\n",
      "cs1 < 200 selection: 72830 rows removed (6.28% passed)\n",
      "cs1 > 0 selection: 0 rows removed (100.00% passed)\n",
      "cs2 > 0 selection: 0 rows removed (100.00% passed)\n",
      "cs1 < 200 selection: 72520 rows removed (6.37% passed)\n",
      "cs1 > 0 selection: 0 rows removed (100.00% passed)\n",
      "cs2 > 0 selection: 0 rows removed (100.00% passed)\n",
      "cs1 < 200 selection: 69507 rows removed (6.16% passed)\n",
      "cs1 > 0 selection: 0 rows removed (100.00% passed)\n",
      "cs2 > 0 selection: 0 rows removed (100.00% passed)\n",
      "cs1 < 200 selection: 69711 rows removed (6.00% passed)\n",
      "cs1 > 0 selection: 0 rows removed (100.00% passed)\n",
      "cs2 > 0 selection: 0 rows removed (100.00% passed)\n",
      "cs1 < 200 selection: 69504 rows removed (6.16% passed)\n",
      "cs1 > 0 selection: 0 rows removed (100.00% passed)\n",
      "cs2 > 0 selection: 0 rows removed (100.00% passed)\n",
      "cs1 < 200 selection: 69981 rows removed (6.20% passed)\n",
      "cs1 > 0 selection: 0 rows removed (100.00% passed)\n",
      "cs2 > 0 selection: 0 rows removed (100.00% passed)\n",
      "cs1 < 200 selection: 69827 rows removed (6.15% passed)\n",
      "cs1 > 0 selection: 0 rows removed (100.00% passed)\n",
      "cs2 > 0 selection: 0 rows removed (100.00% passed)\n",
      "cs1 < 200 selection: 71475 rows removed (6.38% passed)\n",
      "cs1 > 0 selection: 0 rows removed (100.00% passed)\n",
      "cs2 > 0 selection: 0 rows removed (100.00% passed)\n",
      "cs1 < 200 selection: 71362 rows removed (6.66% passed)\n",
      "cs1 > 0 selection: 0 rows removed (100.00% passed)\n",
      "cs2 > 0 selection: 0 rows removed (100.00% passed)\n",
      "20 / 31\n",
      "cs1 < 200 selection: 71769 rows removed (6.39% passed)\n",
      "cs1 > 0 selection: 0 rows removed (100.00% passed)\n",
      "cs2 > 0 selection: 0 rows removed (100.00% passed)\n",
      "cs1 < 200 selection: 71506 rows removed (6.31% passed)\n",
      "cs1 > 0 selection: 0 rows removed (100.00% passed)\n",
      "cs2 > 0 selection: 0 rows removed (100.00% passed)\n",
      "cs1 < 200 selection: 70482 rows removed (6.04% passed)\n",
      "cs1 > 0 selection: 0 rows removed (100.00% passed)\n",
      "cs2 > 0 selection: 0 rows removed (100.00% passed)\n",
      "cs1 < 200 selection: 74099 rows removed (6.13% passed)\n",
      "cs1 > 0 selection: 0 rows removed (100.00% passed)\n",
      "cs2 > 0 selection: 0 rows removed (100.00% passed)\n",
      "cs1 < 200 selection: 73804 rows removed (6.25% passed)\n",
      "cs1 > 0 selection: 0 rows removed (100.00% passed)\n",
      "cs2 > 0 selection: 0 rows removed (100.00% passed)\n",
      "cs1 < 200 selection: 74041 rows removed (6.01% passed)\n",
      "cs1 > 0 selection: 0 rows removed (100.00% passed)\n",
      "cs2 > 0 selection: 0 rows removed (100.00% passed)\n",
      "cs1 < 200 selection: 73738 rows removed (6.23% passed)\n",
      "cs1 > 0 selection: 0 rows removed (100.00% passed)\n",
      "cs2 > 0 selection: 0 rows removed (100.00% passed)\n",
      "cs1 < 200 selection: 74125 rows removed (6.11% passed)\n",
      "cs1 > 0 selection: 0 rows removed (100.00% passed)\n",
      "cs2 > 0 selection: 0 rows removed (100.00% passed)\n",
      "cs1 < 200 selection: 74934 rows removed (6.31% passed)\n",
      "cs1 > 0 selection: 0 rows removed (100.00% passed)\n",
      "cs2 > 0 selection: 0 rows removed (100.00% passed)\n",
      "cs1 < 200 selection: 74669 rows removed (7.35% passed)\n",
      "cs1 > 0 selection: 0 rows removed (100.00% passed)\n",
      "cs2 > 0 selection: 0 rows removed (100.00% passed)\n",
      "30 / 31\n"
     ]
    }
   ],
   "source": [
    "#### Load files on midway (dali)\n",
    "\n",
    "#%capture\n",
    "Runs = process_runs(Runs, savenumber = 5, trees='all')"
   ]
  },
  {
   "cell_type": "code",
   "execution_count": 14,
   "metadata": {
    "collapsed": false
   },
   "outputs": [
    {
     "name": "stdout",
     "output_type": "stream",
     "text": [
      "NG: 147427 events loaded.\n",
      "Rn: 113779 events loaded.\n"
     ]
    }
   ],
   "source": [
    "print('NG: %d events loaded.' %(len(Runs['NG'][1])))\n",
    "print('Rn: %d events loaded.' %(len(Runs['Rn'][1])))"
   ]
  },
  {
   "cell_type": "code",
   "execution_count": 15,
   "metadata": {
    "collapsed": true
   },
   "outputs": [],
   "source": [
    "ng = Runs['NG'][1]\n",
    "rn = Runs['Rn'][1]"
   ]
  },
  {
   "cell_type": "markdown",
   "metadata": {},
   "source": [
    "## Corrections"
   ]
  },
  {
   "cell_type": "code",
   "execution_count": 16,
   "metadata": {
    "collapsed": false
   },
   "outputs": [
    {
     "data": {
      "text/plain": [
       "array(['alt_s1_interaction_drift_time', 'alt_s1_interaction_z',\n",
       "       'alt_s2_interaction_s2_range_50p_area',\n",
       "       'alt_s2_interaction_s2_range_80p_area', 'alt_s2_interaction_x',\n",
       "       'alt_s2_interaction_y', 'alt_s2_interaction_z',\n",
       "       'area_before_main_s2', 'cs1', 'cs1_a', 'cs1_a_no_field_corr',\n",
       "       'cs1_b', 'cs1_b_int_b', 'cs1_b_int_b_no_field_corr',\n",
       "       'cs1_b_no_field_corr', 'cs1_no_field_corr', 'cs1_tpf_2dfdc', 'cs2',\n",
       "       'cs2_a', 'cs2_a_bottom', 'cs2_a_top', 'cs2_alpha', 'cs2_bottom',\n",
       "       'cs2_bottom_alpha', 'cs2_top', 'cs2_top_alpha', 'drift_time',\n",
       "       'ds_s1_b_n_distinct_channels', 'ds_s1_dt', 'ds_second_s2',\n",
       "       'event_duration', 'event_number', 'event_time', 'flashing_PMT',\n",
       "       'flashing_time', 'flashing_width', 'inside_flash',\n",
       "       'int_a_drift_time', 'int_a_r_3d_nn', 'int_a_r_correction_3d_nn',\n",
       "       'int_a_r_nn', 'int_a_x_3d_nn', 'int_a_x_nn', 'int_a_x_pax',\n",
       "       'int_a_y_3d_nn', 'int_a_y_nn', 'int_a_y_pax', 'int_a_z_3d_nn',\n",
       "       'int_a_z_correction_3d_nn', 'int_a_z_observed', 'int_a_z_pax',\n",
       "       'int_b_drift_time', 'int_b_r_3d_nn', 'int_b_r_correction_3d_nn',\n",
       "       'int_b_r_nn', 'int_b_x_3d_nn', 'int_b_x_nn', 'int_b_x_pax',\n",
       "       'int_b_y_3d_nn', 'int_b_y_nn', 'int_b_y_pax', 'int_b_z_3d_nn',\n",
       "       'int_b_z_correction_3d_nn', 'int_b_z_observed', 'int_b_z_pax',\n",
       "       'largest_coincidence', 'largest_other_s1', 'largest_other_s2',\n",
       "       'largest_other_s2_delay_main_s1', 'largest_other_s2_delay_main_s2',\n",
       "       'largest_other_s2_pattern_fit', 'largest_s2_before_main_s2_area',\n",
       "       'largest_unknown', 'largest_veto', 'n_peaks', 'n_pulses',\n",
       "       'n_true_peaks', 'nearest_1e5pe_event', 'nearest_1e6pe_event',\n",
       "       'nearest_3e5pe_event', 'nearest_busy', 'nearest_busy_off',\n",
       "       'nearest_busy_on', 'nearest_event', 'nearest_flash', 'nearest_hev',\n",
       "       'nearest_hev_off', 'nearest_hev_on', 'nearest_muon_veto_trigger',\n",
       "       'nearest_s2_area', 'next_1e5pe_event', 'next_1e6pe_event',\n",
       "       'next_3e5pe_event', 'next_busy', 'next_busy_off', 'next_busy_on',\n",
       "       'next_event', 'next_hev', 'next_hev_off', 'next_hev_on',\n",
       "       'next_muon_veto_trigger', 'next_s2_area', 'previous_1e5pe_event',\n",
       "       'previous_1e6pe_event', 'previous_3e5pe_event', 'previous_busy',\n",
       "       'previous_busy_off', 'previous_busy_on', 'previous_event',\n",
       "       'previous_hev', 'previous_hev_off', 'previous_hev_on',\n",
       "       'previous_muon_veto_trigger', 'previous_s2_area', 'r', 'r_3d_nn',\n",
       "       'r_3d_nn_tf', 'r_3d_tpf', 'r_correction_2d', 'r_correction_3d_nn',\n",
       "       'r_correction_3d_nn_tf', 'r_correction_3d_tpf', 'r_observed',\n",
       "       'r_observed_nn', 'r_observed_nn_tf', 'r_observed_tpf',\n",
       "       'r_pos_correction', 'run_number', 's1', 's1_a',\n",
       "       's1_a_area_fraction_top', 's1_a_center_time',\n",
       "       's1_area_fraction_top', 's1_area_fraction_top_binomial',\n",
       "       's1_area_fraction_top_binomial_nothresh',\n",
       "       's1_area_fraction_top_probability',\n",
       "       's1_area_fraction_top_probability_hax',\n",
       "       's1_area_fraction_top_probability_nothresh',\n",
       "       's1_area_lower_injection_fraction',\n",
       "       's1_area_upper_injection_fraction', 's1_b',\n",
       "       's1_b_area_fraction_top', 's1_b_center_time',\n",
       "       's1_int_a_xyz_correction_nn_fdc_3d',\n",
       "       's1_int_a_xyz_true_correction_nn_fdc_3d',\n",
       "       's1_int_b_xyz_correction_nn_fdc_3d',\n",
       "       's1_int_b_xyz_true_correction_nn_fdc_3d', 's1_largest_hit_area',\n",
       "       's1_largest_hit_channel', 's1_n_contributing_channels',\n",
       "       's1_pattern_fit', 's1_pattern_fit_bottom_hax',\n",
       "       's1_pattern_fit_bottom_hits_hax', 's1_pattern_fit_hax',\n",
       "       's1_pattern_fit_hits_hax', 's1_range_100p_area',\n",
       "       's1_range_50p_area', 's1_range_80p_area', 's1_range_90p_area',\n",
       "       's1_rise_time', 's1_tight_coincidence',\n",
       "       's1_xyz_correction_nn_fdc_3d', 's1_xyz_correction_tpf_fdc_2d',\n",
       "       's1_xyz_true_correction_nn_fdc_3d', 's2', 's2_a',\n",
       "       's2_a_area_fraction_top', 's2_a_bottom', 's2_a_center_time',\n",
       "       's2_a_xy_correction_bottom', 's2_a_xy_correction_top',\n",
       "       's2_a_xy_correction_tot', 's2_area_fraction_top',\n",
       "       's2_area_tailcut_set_by', 's2_b', 's2_b_area_fraction_top',\n",
       "       's2_b_bottom', 's2_b_center_time', 's2_largest_hit_area',\n",
       "       's2_largest_hit_channel', 's2_lifetime_correction',\n",
       "       's2_lifetime_correction_alpha', 's2_n_contributing_channels',\n",
       "       's2_over_tdiff', 's2_pattern_fit', 's2_pattern_fit_nn',\n",
       "       's2_pattern_fit_tpf', 's2_range_50p_area', 's2_range_80p_area',\n",
       "       's2_rise_time', 's2_xy_correction_bottom', 's2_xy_correction_top',\n",
       "       's2_xy_correction_tot', 'sum_s1s_before_main_s2', 'tailcut_set_by',\n",
       "       'total_peak_area', 'x', 'x_3d_nn', 'x_3d_nn_tf', 'x_3d_tpf', 'x_nn',\n",
       "       'x_observed_nn', 'x_observed_nn_tf', 'x_observed_tpf', 'x_pax',\n",
       "       'x_tpff', 'y', 'y_3d_nn', 'y_3d_nn_tf', 'y_3d_tpf', 'y_nn',\n",
       "       'y_observed_nn', 'y_observed_nn_tf', 'y_observed_tpf', 'y_pax',\n",
       "       'y_tpff', 'z', 'z_3d_nn', 'z_3d_nn_tf', 'z_3d_tpf',\n",
       "       'z_correction_2d', 'z_correction_3d_nn', 'z_correction_3d_nn_tf',\n",
       "       'z_correction_3d_tpf', 'z_observed', 'z_pos_correction'], dtype=object)"
      ]
     },
     "execution_count": 16,
     "metadata": {},
     "output_type": "execute_result"
    }
   ],
   "source": [
    "rn.columns.values"
   ]
  },
  {
   "cell_type": "code",
   "execution_count": 23,
   "metadata": {
    "collapsed": false
   },
   "outputs": [
    {
     "name": "stderr",
     "output_type": "stream",
     "text": [
      "/project/lgrandi/anaconda3/envs/pax_head/lib/python3.4/site-packages/numpy/lib/function_base.py:804: RuntimeWarning: invalid value encountered in greater_equal\n",
      "  not_smaller_than_edge = (sample[:, i] >= edges[i][-1])\n"
     ]
    },
    {
     "name": "stdout",
     "output_type": "stream",
     "text": [
      "[-96.6  -86.94 -77.28 -67.62 -57.96 -48.3  -38.64 -28.98 -19.32  -9.66   0.  ]\n"
     ]
    },
    {
     "name": "stderr",
     "output_type": "stream",
     "text": [
      "  0%|          | 0/147427 [00:00<?, ?it/s]\n"
     ]
    },
    {
     "ename": "IndexError",
     "evalue": "index 11 is out of bounds for axis 0 with size 11",
     "output_type": "error",
     "traceback": [
      "\u001b[0;31m---------------------------------------------------------------------------\u001b[0m",
      "\u001b[0;31mIndexError\u001b[0m                                Traceback (most recent call last)",
      "\u001b[0;32m<ipython-input-23-4bfbadad70f7>\u001b[0m in \u001b[0;36m<module>\u001b[0;34m()\u001b[0m\n\u001b[0;32m----> 1\u001b[0;31m \u001b[0mFielCorrection\u001b[0m\u001b[0;34m(\u001b[0m\u001b[0mng\u001b[0m\u001b[0;34m,\u001b[0m\u001b[0mcachefolder\u001b[0m\u001b[0;34m)\u001b[0m\u001b[0;34m\u001b[0m\u001b[0m\n\u001b[0m",
      "\u001b[0;32m<ipython-input-22-baa3a9da5cfe>\u001b[0m in \u001b[0;36mFielCorrection\u001b[0;34m(data, path)\u001b[0m\n\u001b[1;32m     31\u001b[0m         \u001b[0;31m#print('\\n', i)\u001b[0m\u001b[0;34m\u001b[0m\u001b[0;34m\u001b[0m\u001b[0m\n\u001b[1;32m     32\u001b[0m         \u001b[0;32mwhile\u001b[0m \u001b[0mcontrol\u001b[0m \u001b[0;34m==\u001b[0m \u001b[0;36m0\u001b[0m\u001b[0;34m:\u001b[0m \u001b[0;31m#trova il bin di z_pax e copia la variabile che itera k -> row\u001b[0m\u001b[0;34m\u001b[0m\u001b[0m\n\u001b[0;32m---> 33\u001b[0;31m             \u001b[0;32mif\u001b[0m \u001b[0mdata_uniformity\u001b[0m\u001b[0;34m[\u001b[0m\u001b[0;34m'int_a_z_pax'\u001b[0m\u001b[0;34m]\u001b[0m\u001b[0;34m.\u001b[0m\u001b[0miloc\u001b[0m\u001b[0;34m[\u001b[0m\u001b[0mi\u001b[0m\u001b[0;34m]\u001b[0m \u001b[0;34m<=\u001b[0m \u001b[0mybins\u001b[0m\u001b[0;34m[\u001b[0m\u001b[0mk\u001b[0m\u001b[0;34m+\u001b[0m\u001b[0;36m1\u001b[0m\u001b[0;34m]\u001b[0m \u001b[0;32mand\u001b[0m \u001b[0mdata_uniformity\u001b[0m\u001b[0;34m[\u001b[0m\u001b[0;34m'int_a_z_pax'\u001b[0m\u001b[0;34m]\u001b[0m\u001b[0;34m.\u001b[0m\u001b[0miloc\u001b[0m\u001b[0;34m[\u001b[0m\u001b[0mi\u001b[0m\u001b[0;34m]\u001b[0m \u001b[0;34m>=\u001b[0m \u001b[0mybins\u001b[0m\u001b[0;34m[\u001b[0m\u001b[0mk\u001b[0m\u001b[0;34m]\u001b[0m\u001b[0;34m:\u001b[0m\u001b[0;34m\u001b[0m\u001b[0m\n\u001b[0m\u001b[1;32m     34\u001b[0m                 \u001b[0mrow\u001b[0m \u001b[0;34m=\u001b[0m \u001b[0mk\u001b[0m\u001b[0;34m\u001b[0m\u001b[0m\n\u001b[1;32m     35\u001b[0m                 \u001b[0mcontrol\u001b[0m \u001b[0;34m=\u001b[0m \u001b[0;36m1\u001b[0m\u001b[0;34m\u001b[0m\u001b[0m\n",
      "\u001b[0;31mIndexError\u001b[0m: index 11 is out of bounds for axis 0 with size 11"
     ]
    },
    {
     "name": "stderr",
     "output_type": "stream",
     "text": [
      "/project/lgrandi/anaconda3/envs/pax_head/lib/python3.4/site-packages/matplotlib/colors.py:927: RuntimeWarning: invalid value encountered in less_equal\n",
      "  mask |= resdat <= 0\n"
     ]
    },
    {
     "data": {
      "image/png": "[encoded data removed]",
      "text/plain": [
       "<matplotlib.figure.Figure at 0x7fb427bbc470>"
      ]
     },
     "metadata": {
      "image/png": {
       "height": 477,
       "width": 614
      }
     },
     "output_type": "display_data"
    }
   ],
   "source": [
    "FielCorrection(ng,cachefolder)"
   ]
  },
  {
   "cell_type": "code",
   "execution_count": null,
   "metadata": {
    "collapsed": true
   },
   "outputs": [],
   "source": []
  }
 ],
 "metadata": {
  "kernelspec": {
   "display_name": "Python 3",
   "language": "python",
   "name": "python3"
  },
  "language_info": {
   "codemirror_mode": {
    "name": "ipython",
    "version": 3
   },
   "file_extension": ".py",
   "mimetype": "text/x-python",
   "name": "python",
   "nbconvert_exporter": "python",
   "pygments_lexer": "ipython3",
   "version": "3.4.4"
  }
 },
 "nbformat": 4,
 "nbformat_minor": 2
}
